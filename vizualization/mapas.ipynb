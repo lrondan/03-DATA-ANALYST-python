{
 "cells": [
  {
   "cell_type": "code",
   "execution_count": 12,
   "metadata": {},
   "outputs": [],
   "source": [
    "import folium"
   ]
  },
  {
   "cell_type": "code",
   "execution_count": 18,
   "metadata": {},
   "outputs": [],
   "source": [
    "## simple display map\n",
    "world_map = folium.Map(\n",
    "    location=[56.130, -106.36],\n",
    "    zoom_start=4,\n",
    ")"
   ]
  },
  {
   "cell_type": "code",
   "execution_count": 21,
   "metadata": {},
   "outputs": [
    {
     "data": {
      "text/plain": [
       "<folium.map.Marker at 0x85fbf0>"
      ]
     },
     "execution_count": 21,
     "metadata": {},
     "output_type": "execute_result"
    }
   ],
   "source": [
    "## Marcador por lugar\n",
    "folium.Marker(\n",
    "    location=[51.2538, -85.3232],\n",
    "    popup='Ontario'\n",
    ").add_to(world_map)"
   ]
  },
  {
   "cell_type": "code",
   "execution_count": 25,
   "metadata": {},
   "outputs": [],
   "source": [
    "## Multiple Marcador\n",
    "locations = [\n",
    "    {'location':[45.48, -75.69], 'popup':['Ontario']},\n",
    "    {'location':[48.56, -106.23], 'popup':['Canada']}\n",
    "]\n",
    "\n",
    "for loc in locations:\n",
    "    folium.Marker(location=loc['location'], \n",
    "                  popup=loc['popup']).add_to(world_map)"
   ]
  },
  {
   "cell_type": "code",
   "execution_count": 26,
   "metadata": {},
   "outputs": [
    {
     "data": {
      "text/html": [
       "<div style=\"width:100%;\"><div style=\"position:relative;width:100%;height:0;padding-bottom:60%;\"><iframe src=\"data:text/html;charset=utf-8;base64,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\" style=\"position:absolute;width:100%;height:100%;left:0;top:0;border:none !important;\" allowfullscreen webkitallowfullscreen mozallowfullscreen></iframe></div></div>"
      ],
      "text/plain": [
       "<folium.folium.Map at 0x8a7f1d0>"
      ]
     },
     "execution_count": 26,
     "metadata": {},
     "output_type": "execute_result"
    }
   ],
   "source": [
    "world_map"
   ]
  }
 ],
 "metadata": {
  "kernelspec": {
   "display_name": "Python 3 (ipykernel)",
   "language": "python",
   "name": "python3"
  },
  "language_info": {
   "codemirror_mode": {
    "name": "ipython",
    "version": 3
   },
   "file_extension": ".py",
   "mimetype": "text/x-python",
   "name": "python",
   "nbconvert_exporter": "python",
   "pygments_lexer": "ipython3",
   "version": "3.12.4"
  }
 },
 "nbformat": 4,
 "nbformat_minor": 4
}
