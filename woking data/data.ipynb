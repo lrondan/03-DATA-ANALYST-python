{
 "cells": [
  {
   "cell_type": "code",
   "execution_count": 131,
   "id": "7142231e-e920-4af1-af6b-c639e677708a",
   "metadata": {},
   "outputs": [
    {
     "name": "stdout",
     "output_type": "stream",
     "text": [
      "NUEVO DATA FRAME CREADO SATISFACTORAIMENTE!!!!!!!!!!!!\n"
     ]
    }
   ],
   "source": [
    "import pandas as pd\n",
    "\n",
    "with open('sales_data_sample.csv','r') as file:\n",
    "    dataf =pd.read_csv(file)\n",
    "    try:\n",
    "        dataf.isnull() #limpiar datos\n",
    "        clean = dataf.isnull().sum() #ver valores en blaco\n",
    "        top = dataf.fillna(False) #completar valores en blanco con FALSE\n",
    "        desc = dataf.describe() #descripcion del df\n",
    "        #creacion de un nuevo archivo csv limpio para otro analisis\n",
    "        column2_SALES = top.iloc[:,4]\n",
    "        column1_PRODUCT = top.iloc[:,10]\n",
    "        data = pd.DataFrame([column1_PRODUCT, column2_SALES])\n",
    "        data.to_csv('new_data.csv', sep=',')\n",
    "        print('NUEVO DATA FRAME CREADO SATISFACTORAIMENTE!!!!!!!!!!!!')\n",
    "        \n",
    "    except IOError:\n",
    "        pass\n",
    "        print('cerrado correctamente, algo no esta funcionando bien!!!!')\n",
    "    \n"
   ]
  },
  {
   "cell_type": "code",
   "execution_count": null,
   "id": "be771b48-3d56-4997-9f0d-ba7383169655",
   "metadata": {},
   "outputs": [],
   "source": []
  }
 ],
 "metadata": {
  "kernelspec": {
   "display_name": "Python 3 (ipykernel)",
   "language": "python",
   "name": "python3"
  },
  "language_info": {
   "codemirror_mode": {
    "name": "ipython",
    "version": 3
   },
   "file_extension": ".py",
   "mimetype": "text/x-python",
   "name": "python",
   "nbconvert_exporter": "python",
   "pygments_lexer": "ipython3",
   "version": "3.12.4"
  }
 },
 "nbformat": 4,
 "nbformat_minor": 5
}
