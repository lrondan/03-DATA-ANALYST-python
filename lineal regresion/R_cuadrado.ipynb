{
 "cells": [
  {
   "cell_type": "code",
   "execution_count": 3,
   "id": "3a98e053-c333-4dd6-9c4e-dfbf97315689",
   "metadata": {},
   "outputs": [],
   "source": [
    "#R-square\n",
    "import pandas as pd\n",
    "import matplotlib.pyplot as plt\n",
    "from sklearn.linear_model import LinearRegression\n",
    "import seaborn as sns"
   ]
  },
  {
   "cell_type": "code",
   "execution_count": 4,
   "id": "537a74cb-44aa-4d09-947a-12571a7d9fe6",
   "metadata": {},
   "outputs": [
    {
     "name": "stdout",
     "output_type": "stream",
     "text": [
      "       carros  precio  puntos\n",
      "0          MW    1000      10\n",
      "1      TOYOTA    5461       5\n",
      "2  MITSUBISHI    1515       1\n",
      "3       AURON    5156       5\n",
      "4     CADILAC    5651       5\n",
      "5         JDH    6515       6\n",
      "6        JASB    6555       6\n",
      "7       AHSBD    1565       3\n",
      "8       HASDV    2666       2\n",
      "9        AHDV    6956       9\n"
     ]
    }
   ],
   "source": [
    "#crea set de datos\n",
    "d = {'carros':['MW', 'TOYOTA', 'MITSUBISHI', 'AURON', 'CADILAC', 'JDH', 'JASB', 'AHSBD','HASDV','AHDV'], 'precio':[1000,5461,1515,5156,5651,6515,6555,1565,2666,6956], 'puntos':[10,5,1,5,5,6,6,3,2,9]}\n",
    "df = pd.DataFrame(data=d)\n",
    "print(df)"
   ]
  },
  {
   "cell_type": "code",
   "execution_count": 8,
   "id": "e4770784-68e8-49d6-b70b-e77c2ba62eff",
   "metadata": {},
   "outputs": [
    {
     "data": {
      "text/plain": [
       "0.11340174621577637"
      ]
     },
     "execution_count": 8,
     "metadata": {},
     "output_type": "execute_result"
    }
   ],
   "source": [
    "#Ver R-cuadrado\n",
    "lm = LinearRegression()\n",
    "x = df[['puntos']]\n",
    "y = df['precio']\n",
    "lm.fit(x,y)\n",
    "lm.score(x,y)"
   ]
  },
  {
   "cell_type": "code",
   "execution_count": null,
   "id": "49d28a4f-aa8a-44d7-a9ad-78ccfee22b19",
   "metadata": {},
   "outputs": [],
   "source": []
  }
 ],
 "metadata": {
  "kernelspec": {
   "display_name": "Python 3 (ipykernel)",
   "language": "python",
   "name": "python3"
  },
  "language_info": {
   "codemirror_mode": {
    "name": "ipython",
    "version": 3
   },
   "file_extension": ".py",
   "mimetype": "text/x-python",
   "name": "python",
   "nbconvert_exporter": "python",
   "pygments_lexer": "ipython3",
   "version": "3.12.4"
  }
 },
 "nbformat": 4,
 "nbformat_minor": 5
}
