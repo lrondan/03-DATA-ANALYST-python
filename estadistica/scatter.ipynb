{
 "cells": [
  {
   "cell_type": "code",
   "execution_count": 1,
   "id": "62ff38c2-5367-41e6-9883-9c69c0e086e3",
   "metadata": {},
   "outputs": [
    {
     "name": "stdout",
     "output_type": "stream",
     "text": [
      "  size  price\n",
      "0    X     23\n",
      "1   XL     54\n",
      "2    L     65\n",
      "3    M     54\n"
     ]
    }
   ],
   "source": [
    "import pandas as pd\n",
    "import matplotlib.pyplot as plt\n",
    "\n",
    "d = {'size':['X', 'XL', 'L', 'M'], 'price':[23, 54, 65, 54]}\n",
    "df = pd.DataFrame(data=d)\n",
    "\n",
    "y = df['price']\n",
    "x = df['size']\n",
    "plt.scatter(x,y)\n",
    "plt.title('')"
   ]
  },
  {
   "cell_type": "code",
   "execution_count": null,
   "id": "e076e777-84f7-408d-bf18-03686cc25e34",
   "metadata": {},
   "outputs": [],
   "source": []
  }
 ],
 "metadata": {
  "kernelspec": {
   "display_name": "Python 3 (ipykernel)",
   "language": "python",
   "name": "python3"
  },
  "language_info": {
   "codemirror_mode": {
    "name": "ipython",
    "version": 3
   },
   "file_extension": ".py",
   "mimetype": "text/x-python",
   "name": "python",
   "nbconvert_exporter": "python",
   "pygments_lexer": "ipython3",
   "version": "3.12.4"
  }
 },
 "nbformat": 4,
 "nbformat_minor": 5
}
